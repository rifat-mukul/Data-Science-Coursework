{
 "cells": [
  {
   "cell_type": "code",
   "execution_count": 1,
   "metadata": {},
   "outputs": [],
   "source": [
    "import numpy as np"
   ]
  },
  {
   "cell_type": "code",
   "execution_count": 3,
   "metadata": {},
   "outputs": [
    {
     "name": "stdout",
     "output_type": "stream",
     "text": [
      "[[1. 1. 1.]\n",
      " [1. 1. 1.]]\n"
     ]
    }
   ],
   "source": [
    "a = np.ones((2,3))\n",
    "print(a)"
   ]
  },
  {
   "cell_type": "code",
   "execution_count": 4,
   "metadata": {},
   "outputs": [
    {
     "name": "stdout",
     "output_type": "stream",
     "text": [
      "[[2 2]\n",
      " [2 2]\n",
      " [2 2]]\n"
     ]
    }
   ],
   "source": [
    "b = np.full((3,2),2)\n",
    "print(b)"
   ]
  },
  {
   "cell_type": "code",
   "execution_count": 8,
   "metadata": {},
   "outputs": [
    {
     "name": "stdout",
     "output_type": "stream",
     "text": [
      "[[6. 6.]\n",
      " [6. 6.]]\n"
     ]
    }
   ],
   "source": [
    "# print(a*b) we cannot do thid\n",
    "#but we can use mutual multiplication\n",
    "print(np.matmul(a,b))"
   ]
  },
  {
   "cell_type": "code",
   "execution_count": 9,
   "metadata": {},
   "outputs": [
    {
     "name": "stdout",
     "output_type": "stream",
     "text": [
      "[[1. 0. 0.]\n",
      " [0. 1. 0.]\n",
      " [0. 0. 1.]]\n"
     ]
    }
   ],
   "source": [
    "c = np.identity(3)\n",
    "print(c)"
   ]
  },
  {
   "cell_type": "code",
   "execution_count": 13,
   "metadata": {},
   "outputs": [
    {
     "name": "stdout",
     "output_type": "stream",
     "text": [
      "[[0.34597403 0.62512999 0.06659975 0.89364002]\n",
      " [0.24309127 0.85392583 0.79669874 0.45681864]\n",
      " [0.82240311 0.14746191 0.59603347 0.69898398]\n",
      " [0.68568425 0.1142566  0.03833941 0.9677291 ]]\n"
     ]
    }
   ],
   "source": [
    "# create a random matrix\n",
    "size = 4\n",
    "\n",
    "random_matrix = np.random.rand(size, size)\n",
    "print(random_matrix)"
   ]
  },
  {
   "cell_type": "code",
   "execution_count": 30,
   "metadata": {},
   "outputs": [
    {
     "name": "stdout",
     "output_type": "stream",
     "text": [
      "[[71 98 34 29]\n",
      " [52 28 15  5]\n",
      " [93 93 31 72]\n",
      " [12 66 60 85]]\n"
     ]
    }
   ],
   "source": [
    "#random int matrix\n",
    "random_int_matrix = np.random.randint(1, 100, size=(size, size))\n",
    "print(random_int_matrix)"
   ]
  },
  {
   "cell_type": "code",
   "execution_count": 31,
   "metadata": {},
   "outputs": [
    {
     "name": "stdout",
     "output_type": "stream",
     "text": [
      "7372220.999999998\n"
     ]
    }
   ],
   "source": [
    "#for finging the determinent\n",
    "print(np.linalg.det(random_int_matrix))"
   ]
  },
  {
   "cell_type": "code",
   "execution_count": 32,
   "metadata": {},
   "outputs": [
    {
     "name": "stdout",
     "output_type": "stream",
     "text": [
      "EigResult(eigenvalues=array([194.33519048+0.j       ,  67.1775023 +0.j       ,\n",
      "       -23.25634639+4.8835628j, -23.25634639-4.8835628j]), eigenvectors=array([[ 0.48580421+0.j        , -0.34213775+0.j        ,\n",
      "        -0.0732326 +0.18358214j, -0.0732326 -0.18358214j],\n",
      "       [ 0.22643528+0.j        , -0.29246326+0.j        ,\n",
      "        -0.11837397-0.206034j  , -0.11837397+0.206034j  ],\n",
      "       [ 0.64542371+0.j        ,  0.12760827+0.j        ,\n",
      "         0.85862387+0.j        ,  0.85862387-0.j        ],\n",
      "       [ 0.54419626+0.j        ,  0.8838117 +0.j        ,\n",
      "        -0.39953309+0.08723843j, -0.39953309-0.08723843j]]))\n"
     ]
    }
   ],
   "source": [
    "#Calculating Eigenvalues and Eigenvectors\n",
    "\n",
    "print(np.linalg.eig(random_int_matrix))"
   ]
  },
  {
   "cell_type": "code",
   "execution_count": null,
   "metadata": {},
   "outputs": [],
   "source": []
  }
 ],
 "metadata": {
  "kernelspec": {
   "display_name": "Python 3",
   "language": "python",
   "name": "python3"
  },
  "language_info": {
   "codemirror_mode": {
    "name": "ipython",
    "version": 3
   },
   "file_extension": ".py",
   "mimetype": "text/x-python",
   "name": "python",
   "nbconvert_exporter": "python",
   "pygments_lexer": "ipython3",
   "version": "3.10.12"
  }
 },
 "nbformat": 4,
 "nbformat_minor": 2
}
